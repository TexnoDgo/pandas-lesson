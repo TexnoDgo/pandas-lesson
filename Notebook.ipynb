{
 "cells": [
  {
   "cell_type": "markdown",
   "id": "39860b0d",
   "metadata": {},
   "source": [
    "# Pandas урок"
   ]
  },
  {
   "cell_type": "markdown",
   "id": "1e16b681",
   "metadata": {},
   "source": [
    "---\n",
    "\n",
    "### Завдання:\n",
    "<a name=\"0\"/>\n",
    "\n",
    "[1. Завантаження данних](#1)<br>\n",
    "\n",
    "[2. Аналіз та спрощення данних](#2)<br>\n",
    "\n",
    "[3. Скільки чоловіків і жінок (ознака `sex`) представлено в цьому наборі даних?](#3)<br>\n",
    "\n",
    "[4. Який середній вік (ознака `age`) жінок?](#4)<br>\n",
    "\n",
    "[5. Яка частка громадян Німеччини (ознака `native-country`)](#5)<br>\n",
    "\n",
    "[6. Які середні значення і середньоквадратичні відхилення віку тих,<br>\n",
    "хто отримує понад 50K на рік (ознака `salary`), і тих, хто отримує менш як 50K на рік??](#6)<br>\n",
    "\n",
    "[7. Чи правда, що люди, які отримують понад 50k, мають щонайменше вищу освіту?<br>\n",
    "(ознака `education - Bachelors, Prof-school, Assoc-acdm, Assoc-voc, Masters або Doctorate`)](#7)<br>\n",
    "\n",
    "[8. Виведіть статистику віку для кожної раси (ознака `race`) і кожної статі.<br>\n",
    "Використовуйте `groupby` та `describe`. Знайдіть таким чином максимальний вік<br>\n",
    "чоловіків раси `Amer-Indian-Eskimo`](#8)<br>\n",
    "\n",
    "[9. Серед кого більша частка тих, хто заробляє багато (>50K):<br>\n",
    "серед одружених чи неодружених чоловіків (ознака `marital-status`)?<br>\n",
    "Одруженими вважаємо тих, у кого `marital-status` починається з `Married`<br>\n",
    "(`Married-civ-spouse, Married-spouse-absent або Married-AF-spouse`),<br>\n",
    "решту вважаємо неодруженими.](#9)<br>\n",
    "\n",
    "[10. Яке максимальне число годин людина працює на тиждень (ознака `hours-per-week`)?<br>\n",
    "Скільки людей працюють таку кількість годин і який серед них відсоток тих, хто заробляє багато?](#10)<br>\n",
    "\n",
    "[11. Порахуйте середній час роботи (`hours-per-week`) тих,<br>\n",
    "хто заробляє мало і багато (`salary`) для кожної країни (`native-country`)](#11)<br>"
   ]
  },
  {
   "cell_type": "markdown",
   "id": "6cbd02f1",
   "metadata": {},
   "source": [
    "Імпорт бібліотек"
   ]
  },
  {
   "cell_type": "code",
   "execution_count": 138,
   "id": "7e1d6a86",
   "metadata": {},
   "outputs": [],
   "source": [
    "from io import BytesIO\n",
    "from zipfile import ZipFile\n",
    "from urllib.request import urlopen\n",
    "\n",
    "import pandas as pd\n",
    "import numpy as np"
   ]
  },
  {
   "cell_type": "markdown",
   "id": "5c221b44",
   "metadata": {},
   "source": [
    "---\n",
    "\n",
    "# Рішення"
   ]
  },
  {
   "cell_type": "markdown",
   "id": "15f8ee3e",
   "metadata": {},
   "source": [
    "---\n",
    "\n",
    "#### 1. Завантаження данних\n",
    "[завдання](#0)\n",
    "<a name=\"1\"/>\n"
   ]
  },
  {
   "cell_type": "code",
   "execution_count": 139,
   "id": "1a8d3317",
   "metadata": {},
   "outputs": [],
   "source": [
    "# Посилання на архів\n",
    "url = 'https://archive.ics.uci.edu/static/public/2/adult.zip'"
   ]
  },
  {
   "cell_type": "markdown",
   "id": "60c8e4ff",
   "metadata": {},
   "source": [
    "Мною були помічені відступи у текстових фічах при звичайному іморті. Тому додамо функцію попередьної очистки."
   ]
  },
  {
   "cell_type": "code",
   "execution_count": 140,
   "id": "f33bc04a",
   "metadata": {},
   "outputs": [],
   "source": [
    "def strip(text):\n",
    "    try:\n",
    "        return text.strip()\n",
    "    except AttributeError:\n",
    "        return text"
   ]
  },
  {
   "cell_type": "code",
   "execution_count": 141,
   "id": "8ac1b827",
   "metadata": {},
   "outputs": [
    {
     "data": {
      "text/html": [
       "<div>\n",
       "<style scoped>\n",
       "    .dataframe tbody tr th:only-of-type {\n",
       "        vertical-align: middle;\n",
       "    }\n",
       "\n",
       "    .dataframe tbody tr th {\n",
       "        vertical-align: top;\n",
       "    }\n",
       "\n",
       "    .dataframe thead th {\n",
       "        text-align: right;\n",
       "    }\n",
       "</style>\n",
       "<table border=\"1\" class=\"dataframe\">\n",
       "  <thead>\n",
       "    <tr style=\"text-align: right;\">\n",
       "      <th></th>\n",
       "      <th>age</th>\n",
       "      <th>workclass</th>\n",
       "      <th>fnlwgt</th>\n",
       "      <th>education</th>\n",
       "      <th>education-num</th>\n",
       "      <th>marital-status</th>\n",
       "      <th>occupation</th>\n",
       "      <th>relationship</th>\n",
       "      <th>race</th>\n",
       "      <th>sex</th>\n",
       "      <th>capital-gain</th>\n",
       "      <th>capital-loss</th>\n",
       "      <th>hours-per-week</th>\n",
       "      <th>native-country</th>\n",
       "      <th>salary</th>\n",
       "    </tr>\n",
       "  </thead>\n",
       "  <tbody>\n",
       "    <tr>\n",
       "      <th>0</th>\n",
       "      <td>39</td>\n",
       "      <td>State-gov</td>\n",
       "      <td>77516</td>\n",
       "      <td>Bachelors</td>\n",
       "      <td>13</td>\n",
       "      <td>Never-married</td>\n",
       "      <td>Adm-clerical</td>\n",
       "      <td>Not-in-family</td>\n",
       "      <td>White</td>\n",
       "      <td>Male</td>\n",
       "      <td>2174</td>\n",
       "      <td>0</td>\n",
       "      <td>40</td>\n",
       "      <td>United-States</td>\n",
       "      <td>&lt;=50K</td>\n",
       "    </tr>\n",
       "    <tr>\n",
       "      <th>1</th>\n",
       "      <td>50</td>\n",
       "      <td>Self-emp-not-inc</td>\n",
       "      <td>83311</td>\n",
       "      <td>Bachelors</td>\n",
       "      <td>13</td>\n",
       "      <td>Married-civ-spouse</td>\n",
       "      <td>Exec-managerial</td>\n",
       "      <td>Husband</td>\n",
       "      <td>White</td>\n",
       "      <td>Male</td>\n",
       "      <td>0</td>\n",
       "      <td>0</td>\n",
       "      <td>13</td>\n",
       "      <td>United-States</td>\n",
       "      <td>&lt;=50K</td>\n",
       "    </tr>\n",
       "    <tr>\n",
       "      <th>2</th>\n",
       "      <td>38</td>\n",
       "      <td>Private</td>\n",
       "      <td>215646</td>\n",
       "      <td>HS-grad</td>\n",
       "      <td>9</td>\n",
       "      <td>Divorced</td>\n",
       "      <td>Handlers-cleaners</td>\n",
       "      <td>Not-in-family</td>\n",
       "      <td>White</td>\n",
       "      <td>Male</td>\n",
       "      <td>0</td>\n",
       "      <td>0</td>\n",
       "      <td>40</td>\n",
       "      <td>United-States</td>\n",
       "      <td>&lt;=50K</td>\n",
       "    </tr>\n",
       "    <tr>\n",
       "      <th>3</th>\n",
       "      <td>53</td>\n",
       "      <td>Private</td>\n",
       "      <td>234721</td>\n",
       "      <td>11th</td>\n",
       "      <td>7</td>\n",
       "      <td>Married-civ-spouse</td>\n",
       "      <td>Handlers-cleaners</td>\n",
       "      <td>Husband</td>\n",
       "      <td>Black</td>\n",
       "      <td>Male</td>\n",
       "      <td>0</td>\n",
       "      <td>0</td>\n",
       "      <td>40</td>\n",
       "      <td>United-States</td>\n",
       "      <td>&lt;=50K</td>\n",
       "    </tr>\n",
       "    <tr>\n",
       "      <th>4</th>\n",
       "      <td>28</td>\n",
       "      <td>Private</td>\n",
       "      <td>338409</td>\n",
       "      <td>Bachelors</td>\n",
       "      <td>13</td>\n",
       "      <td>Married-civ-spouse</td>\n",
       "      <td>Prof-specialty</td>\n",
       "      <td>Wife</td>\n",
       "      <td>Black</td>\n",
       "      <td>Female</td>\n",
       "      <td>0</td>\n",
       "      <td>0</td>\n",
       "      <td>40</td>\n",
       "      <td>Cuba</td>\n",
       "      <td>&lt;=50K</td>\n",
       "    </tr>\n",
       "  </tbody>\n",
       "</table>\n",
       "</div>"
      ],
      "text/plain": [
       "   age         workclass  fnlwgt  education  education-num  \\\n",
       "0   39         State-gov   77516  Bachelors             13   \n",
       "1   50  Self-emp-not-inc   83311  Bachelors             13   \n",
       "2   38           Private  215646    HS-grad              9   \n",
       "3   53           Private  234721       11th              7   \n",
       "4   28           Private  338409  Bachelors             13   \n",
       "\n",
       "       marital-status         occupation   relationship   race     sex  \\\n",
       "0       Never-married       Adm-clerical  Not-in-family  White    Male   \n",
       "1  Married-civ-spouse    Exec-managerial        Husband  White    Male   \n",
       "2            Divorced  Handlers-cleaners  Not-in-family  White    Male   \n",
       "3  Married-civ-spouse  Handlers-cleaners        Husband  Black    Male   \n",
       "4  Married-civ-spouse     Prof-specialty           Wife  Black  Female   \n",
       "\n",
       "   capital-gain  capital-loss  hours-per-week native-country salary  \n",
       "0          2174             0              40  United-States  <=50K  \n",
       "1             0             0              13  United-States  <=50K  \n",
       "2             0             0              40  United-States  <=50K  \n",
       "3             0             0              40  United-States  <=50K  \n",
       "4             0             0              40           Cuba  <=50K  "
      ]
     },
     "execution_count": 141,
     "metadata": {},
     "output_type": "execute_result"
    }
   ],
   "source": [
    "resp = urlopen(url)\n",
    "myzip = ZipFile(BytesIO(resp.read()))\n",
    "with myzip.open('adult.data') as myfile:\n",
    "    #print(myfile.readline())\n",
    "    data = pd.read_csv(myfile, names=['age','workclass', 'fnlwgt', 'education', 'education-num',\n",
    "                                      'marital-status', 'occupation', 'relationship', 'race',\n",
    "                                      'sex', 'capital-gain', 'capital-loss', 'hours-per-week',\n",
    "                                      'native-country', 'salary'],\n",
    "                      converters = {'workclass' : strip,\n",
    "                                    'education' : strip,\n",
    "                                    'marital-status' : strip,\n",
    "                                    'occupation' : strip,\n",
    "                                    'relationship' : strip,\n",
    "                                    'race' : strip,\n",
    "                                    'sex' : strip,\n",
    "                                    'native-country' : strip,\n",
    "                                    'salary' : strip})\n",
    "\n",
    "data.head()"
   ]
  },
  {
   "cell_type": "markdown",
   "id": "48b6bc8c",
   "metadata": {},
   "source": [
    "---\n",
    "\n",
    "#### 2. Аналіз та спрощення данних\n",
    "[завдання](#0)\n",
    "<a name=\"2\"/>"
   ]
  },
  {
   "cell_type": "code",
   "execution_count": 142,
   "id": "8f05d614",
   "metadata": {},
   "outputs": [
    {
     "name": "stdout",
     "output_type": "stream",
     "text": [
      "<class 'pandas.core.frame.DataFrame'>\n",
      "RangeIndex: 32561 entries, 0 to 32560\n",
      "Data columns (total 15 columns):\n",
      " #   Column          Non-Null Count  Dtype \n",
      "---  ------          --------------  ----- \n",
      " 0   age             32561 non-null  int64 \n",
      " 1   workclass       32561 non-null  object\n",
      " 2   fnlwgt          32561 non-null  int64 \n",
      " 3   education       32561 non-null  object\n",
      " 4   education-num   32561 non-null  int64 \n",
      " 5   marital-status  32561 non-null  object\n",
      " 6   occupation      32561 non-null  object\n",
      " 7   relationship    32561 non-null  object\n",
      " 8   race            32561 non-null  object\n",
      " 9   sex             32561 non-null  object\n",
      " 10  capital-gain    32561 non-null  int64 \n",
      " 11  capital-loss    32561 non-null  int64 \n",
      " 12  hours-per-week  32561 non-null  int64 \n",
      " 13  native-country  32561 non-null  object\n",
      " 14  salary          32561 non-null  object\n",
      "dtypes: int64(6), object(9)\n",
      "memory usage: 3.7+ MB\n"
     ]
    }
   ],
   "source": [
    "# Інформація про датасет\n",
    "data.info()"
   ]
  },
  {
   "cell_type": "markdown",
   "id": "75a1c7cd",
   "metadata": {},
   "source": [
    "Типи даних для фічей можна змінити, спростивши таблицю, зробивши її меншою за вагою і прискоривши процес обробки.\n",
    "\n",
    "---\n",
    "\n",
    "Перевіримо min, max значення за int'овими стовпцями:"
   ]
  },
  {
   "cell_type": "code",
   "execution_count": 143,
   "id": "c960d6ff",
   "metadata": {},
   "outputs": [
    {
     "data": {
      "text/html": [
       "<div>\n",
       "<style scoped>\n",
       "    .dataframe tbody tr th:only-of-type {\n",
       "        vertical-align: middle;\n",
       "    }\n",
       "\n",
       "    .dataframe tbody tr th {\n",
       "        vertical-align: top;\n",
       "    }\n",
       "\n",
       "    .dataframe thead th {\n",
       "        text-align: right;\n",
       "    }\n",
       "</style>\n",
       "<table border=\"1\" class=\"dataframe\">\n",
       "  <thead>\n",
       "    <tr style=\"text-align: right;\">\n",
       "      <th></th>\n",
       "      <th>age</th>\n",
       "      <th>fnlwgt</th>\n",
       "      <th>education-num</th>\n",
       "      <th>capital-gain</th>\n",
       "      <th>capital-loss</th>\n",
       "      <th>hours-per-week</th>\n",
       "    </tr>\n",
       "  </thead>\n",
       "  <tbody>\n",
       "    <tr>\n",
       "      <th>count</th>\n",
       "      <td>32561.000000</td>\n",
       "      <td>3.256100e+04</td>\n",
       "      <td>32561.000000</td>\n",
       "      <td>32561.000000</td>\n",
       "      <td>32561.000000</td>\n",
       "      <td>32561.000000</td>\n",
       "    </tr>\n",
       "    <tr>\n",
       "      <th>mean</th>\n",
       "      <td>38.581647</td>\n",
       "      <td>1.897784e+05</td>\n",
       "      <td>10.080679</td>\n",
       "      <td>1077.648844</td>\n",
       "      <td>87.303830</td>\n",
       "      <td>40.437456</td>\n",
       "    </tr>\n",
       "    <tr>\n",
       "      <th>std</th>\n",
       "      <td>13.640433</td>\n",
       "      <td>1.055500e+05</td>\n",
       "      <td>2.572720</td>\n",
       "      <td>7385.292085</td>\n",
       "      <td>402.960219</td>\n",
       "      <td>12.347429</td>\n",
       "    </tr>\n",
       "    <tr>\n",
       "      <th>min</th>\n",
       "      <td>17.000000</td>\n",
       "      <td>1.228500e+04</td>\n",
       "      <td>1.000000</td>\n",
       "      <td>0.000000</td>\n",
       "      <td>0.000000</td>\n",
       "      <td>1.000000</td>\n",
       "    </tr>\n",
       "    <tr>\n",
       "      <th>25%</th>\n",
       "      <td>28.000000</td>\n",
       "      <td>1.178270e+05</td>\n",
       "      <td>9.000000</td>\n",
       "      <td>0.000000</td>\n",
       "      <td>0.000000</td>\n",
       "      <td>40.000000</td>\n",
       "    </tr>\n",
       "    <tr>\n",
       "      <th>50%</th>\n",
       "      <td>37.000000</td>\n",
       "      <td>1.783560e+05</td>\n",
       "      <td>10.000000</td>\n",
       "      <td>0.000000</td>\n",
       "      <td>0.000000</td>\n",
       "      <td>40.000000</td>\n",
       "    </tr>\n",
       "    <tr>\n",
       "      <th>75%</th>\n",
       "      <td>48.000000</td>\n",
       "      <td>2.370510e+05</td>\n",
       "      <td>12.000000</td>\n",
       "      <td>0.000000</td>\n",
       "      <td>0.000000</td>\n",
       "      <td>45.000000</td>\n",
       "    </tr>\n",
       "    <tr>\n",
       "      <th>max</th>\n",
       "      <td>90.000000</td>\n",
       "      <td>1.484705e+06</td>\n",
       "      <td>16.000000</td>\n",
       "      <td>99999.000000</td>\n",
       "      <td>4356.000000</td>\n",
       "      <td>99.000000</td>\n",
       "    </tr>\n",
       "  </tbody>\n",
       "</table>\n",
       "</div>"
      ],
      "text/plain": [
       "                age        fnlwgt  education-num  capital-gain  capital-loss  \\\n",
       "count  32561.000000  3.256100e+04   32561.000000  32561.000000  32561.000000   \n",
       "mean      38.581647  1.897784e+05      10.080679   1077.648844     87.303830   \n",
       "std       13.640433  1.055500e+05       2.572720   7385.292085    402.960219   \n",
       "min       17.000000  1.228500e+04       1.000000      0.000000      0.000000   \n",
       "25%       28.000000  1.178270e+05       9.000000      0.000000      0.000000   \n",
       "50%       37.000000  1.783560e+05      10.000000      0.000000      0.000000   \n",
       "75%       48.000000  2.370510e+05      12.000000      0.000000      0.000000   \n",
       "max       90.000000  1.484705e+06      16.000000  99999.000000   4356.000000   \n",
       "\n",
       "       hours-per-week  \n",
       "count    32561.000000  \n",
       "mean        40.437456  \n",
       "std         12.347429  \n",
       "min          1.000000  \n",
       "25%         40.000000  \n",
       "50%         40.000000  \n",
       "75%         45.000000  \n",
       "max         99.000000  "
      ]
     },
     "execution_count": 143,
     "metadata": {},
     "output_type": "execute_result"
    }
   ],
   "source": [
    "data.describe(include=['int64'])"
   ]
  },
  {
   "cell_type": "markdown",
   "id": "4ef5fbc7",
   "metadata": {},
   "source": [
    "Ось таблиця типів даних і скільки символів вони можуть містити:<br>\n",
    "*    **int16**\tInteger (-32768 to 32767)<br>\n",
    "*    **int32**\tInteger (-2147483648 to 2147483647)\n",
    "\n",
    "---\n",
    "\n",
    "Змінимо `age`, `education-num`, `capital-loss`, `hours-per-week` на **int16**, а `fnlwgt`\n",
    "та `capital-gain` на **int32**"
   ]
  },
  {
   "cell_type": "code",
   "execution_count": 144,
   "id": "8c2436b1",
   "metadata": {},
   "outputs": [],
   "source": [
    "data['age'] = data['age'].astype('int16')\n",
    "data['education-num'] = data['education-num'].astype('int16')\n",
    "data['capital-loss'] = data['capital-loss'].astype('int16')\n",
    "data['hours-per-week'] = data['hours-per-week'].astype('int16')\n",
    "data['fnlwgt'] = data['fnlwgt'].astype('int32')\n",
    "data['capital-gain'] = data['capital-gain'].astype('int32')"
   ]
  },
  {
   "cell_type": "code",
   "execution_count": 145,
   "id": "41d4c694",
   "metadata": {},
   "outputs": [
    {
     "name": "stdout",
     "output_type": "stream",
     "text": [
      "<class 'pandas.core.frame.DataFrame'>\n",
      "RangeIndex: 32561 entries, 0 to 32560\n",
      "Data columns (total 15 columns):\n",
      " #   Column          Non-Null Count  Dtype \n",
      "---  ------          --------------  ----- \n",
      " 0   age             32561 non-null  int16 \n",
      " 1   workclass       32561 non-null  object\n",
      " 2   fnlwgt          32561 non-null  int32 \n",
      " 3   education       32561 non-null  object\n",
      " 4   education-num   32561 non-null  int16 \n",
      " 5   marital-status  32561 non-null  object\n",
      " 6   occupation      32561 non-null  object\n",
      " 7   relationship    32561 non-null  object\n",
      " 8   race            32561 non-null  object\n",
      " 9   sex             32561 non-null  object\n",
      " 10  capital-gain    32561 non-null  int32 \n",
      " 11  capital-loss    32561 non-null  int16 \n",
      " 12  hours-per-week  32561 non-null  int16 \n",
      " 13  native-country  32561 non-null  object\n",
      " 14  salary          32561 non-null  object\n",
      "dtypes: int16(4), int32(2), object(9)\n",
      "memory usage: 2.7+ MB\n"
     ]
    }
   ],
   "source": [
    "data.info()"
   ]
  },
  {
   "cell_type": "markdown",
   "id": "e74f0395",
   "metadata": {},
   "source": [
    "Дані типу **'object'** `workclass`, `education`, `marital-status`, `occupation`, `relationship`, `race`, `sex`, `native-country` є категоріями(`category`).\n",
    "\n",
    "---\n",
    "\n",
    "Змінимо ці типи даних.\n",
    "Хоч я і розумію, що стовпчик sex має лише 2 значення (`Male, Female`) і теж може бути змінений як **bool**, але не знаю, чи правильно така зміна з етичного погляду, тому залишу категоріальним."
   ]
  },
  {
   "cell_type": "code",
   "execution_count": 146,
   "id": "9ebe342c",
   "metadata": {},
   "outputs": [],
   "source": [
    "data['workclass'] = data['workclass'].astype('category')\n",
    "data['education'] = data['education'].astype('category')\n",
    "data['marital-status'] = data['marital-status'].astype('category')\n",
    "data['occupation'] = data['occupation'].astype('category')\n",
    "data['relationship'] = data['relationship'].astype('category')\n",
    "data['race'] = data['race'].astype('category')\n",
    "data['sex'] = data['sex'].astype('category')\n",
    "data['native-country'] = data['native-country'].astype('category')"
   ]
  },
  {
   "cell_type": "code",
   "execution_count": 147,
   "id": "66af6828",
   "metadata": {},
   "outputs": [
    {
     "name": "stdout",
     "output_type": "stream",
     "text": [
      "<class 'pandas.core.frame.DataFrame'>\n",
      "RangeIndex: 32561 entries, 0 to 32560\n",
      "Data columns (total 15 columns):\n",
      " #   Column          Non-Null Count  Dtype   \n",
      "---  ------          --------------  -----   \n",
      " 0   age             32561 non-null  int16   \n",
      " 1   workclass       32561 non-null  category\n",
      " 2   fnlwgt          32561 non-null  int32   \n",
      " 3   education       32561 non-null  category\n",
      " 4   education-num   32561 non-null  int16   \n",
      " 5   marital-status  32561 non-null  category\n",
      " 6   occupation      32561 non-null  category\n",
      " 7   relationship    32561 non-null  category\n",
      " 8   race            32561 non-null  category\n",
      " 9   sex             32561 non-null  category\n",
      " 10  capital-gain    32561 non-null  int32   \n",
      " 11  capital-loss    32561 non-null  int16   \n",
      " 12  hours-per-week  32561 non-null  int16   \n",
      " 13  native-country  32561 non-null  category\n",
      " 14  salary          32561 non-null  object  \n",
      "dtypes: category(8), int16(4), int32(2), object(1)\n",
      "memory usage: 1021.6+ KB\n"
     ]
    }
   ],
   "source": [
    "data.info()"
   ]
  },
  {
   "cell_type": "markdown",
   "id": "f9bf1a20",
   "metadata": {},
   "source": [
    "---\n",
    "\n",
    "Перевіримо стовпець `salary`. Якщо там тільки 2 значення (salary: '<=50К', '>50K'), то замінимо його на тип `bool`, де (selary: '>50К'==True)"
   ]
  },
  {
   "cell_type": "code",
   "execution_count": 148,
   "id": "10711e49",
   "metadata": {},
   "outputs": [
    {
     "data": {
      "text/plain": [
       "array(['<=50K', '>50K'], dtype=object)"
      ]
     },
     "execution_count": 148,
     "metadata": {},
     "output_type": "execute_result"
    }
   ],
   "source": [
    "data['salary'].unique()"
   ]
  },
  {
   "cell_type": "code",
   "execution_count": 149,
   "id": "502f18d2",
   "metadata": {},
   "outputs": [],
   "source": [
    "data['salary'] = data['salary'].map({'>50K': True, '<=50K': False}).astype('bool')"
   ]
  },
  {
   "cell_type": "markdown",
   "id": "3ec70806",
   "metadata": {},
   "source": [
    "Оскільки далі буде не дуже зрозумілим значення (`True, False`) для стовпця `salary` - перейменуємо його на `salary >50K`"
   ]
  },
  {
   "cell_type": "code",
   "execution_count": 150,
   "id": "a7c827f2",
   "metadata": {},
   "outputs": [
    {
     "data": {
      "text/html": [
       "<div>\n",
       "<style scoped>\n",
       "    .dataframe tbody tr th:only-of-type {\n",
       "        vertical-align: middle;\n",
       "    }\n",
       "\n",
       "    .dataframe tbody tr th {\n",
       "        vertical-align: top;\n",
       "    }\n",
       "\n",
       "    .dataframe thead th {\n",
       "        text-align: right;\n",
       "    }\n",
       "</style>\n",
       "<table border=\"1\" class=\"dataframe\">\n",
       "  <thead>\n",
       "    <tr style=\"text-align: right;\">\n",
       "      <th></th>\n",
       "      <th>age</th>\n",
       "      <th>workclass</th>\n",
       "      <th>fnlwgt</th>\n",
       "      <th>education</th>\n",
       "      <th>education-num</th>\n",
       "      <th>marital-status</th>\n",
       "      <th>occupation</th>\n",
       "      <th>relationship</th>\n",
       "      <th>race</th>\n",
       "      <th>sex</th>\n",
       "      <th>capital-gain</th>\n",
       "      <th>capital-loss</th>\n",
       "      <th>hours-per-week</th>\n",
       "      <th>native-country</th>\n",
       "      <th>salary &gt;50K</th>\n",
       "    </tr>\n",
       "  </thead>\n",
       "  <tbody>\n",
       "    <tr>\n",
       "      <th>0</th>\n",
       "      <td>39</td>\n",
       "      <td>State-gov</td>\n",
       "      <td>77516</td>\n",
       "      <td>Bachelors</td>\n",
       "      <td>13</td>\n",
       "      <td>Never-married</td>\n",
       "      <td>Adm-clerical</td>\n",
       "      <td>Not-in-family</td>\n",
       "      <td>White</td>\n",
       "      <td>Male</td>\n",
       "      <td>2174</td>\n",
       "      <td>0</td>\n",
       "      <td>40</td>\n",
       "      <td>United-States</td>\n",
       "      <td>False</td>\n",
       "    </tr>\n",
       "    <tr>\n",
       "      <th>1</th>\n",
       "      <td>50</td>\n",
       "      <td>Self-emp-not-inc</td>\n",
       "      <td>83311</td>\n",
       "      <td>Bachelors</td>\n",
       "      <td>13</td>\n",
       "      <td>Married-civ-spouse</td>\n",
       "      <td>Exec-managerial</td>\n",
       "      <td>Husband</td>\n",
       "      <td>White</td>\n",
       "      <td>Male</td>\n",
       "      <td>0</td>\n",
       "      <td>0</td>\n",
       "      <td>13</td>\n",
       "      <td>United-States</td>\n",
       "      <td>False</td>\n",
       "    </tr>\n",
       "    <tr>\n",
       "      <th>2</th>\n",
       "      <td>38</td>\n",
       "      <td>Private</td>\n",
       "      <td>215646</td>\n",
       "      <td>HS-grad</td>\n",
       "      <td>9</td>\n",
       "      <td>Divorced</td>\n",
       "      <td>Handlers-cleaners</td>\n",
       "      <td>Not-in-family</td>\n",
       "      <td>White</td>\n",
       "      <td>Male</td>\n",
       "      <td>0</td>\n",
       "      <td>0</td>\n",
       "      <td>40</td>\n",
       "      <td>United-States</td>\n",
       "      <td>False</td>\n",
       "    </tr>\n",
       "    <tr>\n",
       "      <th>3</th>\n",
       "      <td>53</td>\n",
       "      <td>Private</td>\n",
       "      <td>234721</td>\n",
       "      <td>11th</td>\n",
       "      <td>7</td>\n",
       "      <td>Married-civ-spouse</td>\n",
       "      <td>Handlers-cleaners</td>\n",
       "      <td>Husband</td>\n",
       "      <td>Black</td>\n",
       "      <td>Male</td>\n",
       "      <td>0</td>\n",
       "      <td>0</td>\n",
       "      <td>40</td>\n",
       "      <td>United-States</td>\n",
       "      <td>False</td>\n",
       "    </tr>\n",
       "    <tr>\n",
       "      <th>4</th>\n",
       "      <td>28</td>\n",
       "      <td>Private</td>\n",
       "      <td>338409</td>\n",
       "      <td>Bachelors</td>\n",
       "      <td>13</td>\n",
       "      <td>Married-civ-spouse</td>\n",
       "      <td>Prof-specialty</td>\n",
       "      <td>Wife</td>\n",
       "      <td>Black</td>\n",
       "      <td>Female</td>\n",
       "      <td>0</td>\n",
       "      <td>0</td>\n",
       "      <td>40</td>\n",
       "      <td>Cuba</td>\n",
       "      <td>False</td>\n",
       "    </tr>\n",
       "  </tbody>\n",
       "</table>\n",
       "</div>"
      ],
      "text/plain": [
       "   age         workclass  fnlwgt  education  education-num  \\\n",
       "0   39         State-gov   77516  Bachelors             13   \n",
       "1   50  Self-emp-not-inc   83311  Bachelors             13   \n",
       "2   38           Private  215646    HS-grad              9   \n",
       "3   53           Private  234721       11th              7   \n",
       "4   28           Private  338409  Bachelors             13   \n",
       "\n",
       "       marital-status         occupation   relationship   race     sex  \\\n",
       "0       Never-married       Adm-clerical  Not-in-family  White    Male   \n",
       "1  Married-civ-spouse    Exec-managerial        Husband  White    Male   \n",
       "2            Divorced  Handlers-cleaners  Not-in-family  White    Male   \n",
       "3  Married-civ-spouse  Handlers-cleaners        Husband  Black    Male   \n",
       "4  Married-civ-spouse     Prof-specialty           Wife  Black  Female   \n",
       "\n",
       "   capital-gain  capital-loss  hours-per-week native-country  salary >50K  \n",
       "0          2174             0              40  United-States        False  \n",
       "1             0             0              13  United-States        False  \n",
       "2             0             0              40  United-States        False  \n",
       "3             0             0              40  United-States        False  \n",
       "4             0             0              40           Cuba        False  "
      ]
     },
     "execution_count": 150,
     "metadata": {},
     "output_type": "execute_result"
    }
   ],
   "source": [
    "data = data.rename(columns={\"salary\": \"salary >50K\"})\n",
    "data.head()"
   ]
  },
  {
   "cell_type": "code",
   "execution_count": 151,
   "id": "870c8bf0",
   "metadata": {},
   "outputs": [
    {
     "name": "stdout",
     "output_type": "stream",
     "text": [
      "<class 'pandas.core.frame.DataFrame'>\n",
      "RangeIndex: 32561 entries, 0 to 32560\n",
      "Data columns (total 15 columns):\n",
      " #   Column          Non-Null Count  Dtype   \n",
      "---  ------          --------------  -----   \n",
      " 0   age             32561 non-null  int16   \n",
      " 1   workclass       32561 non-null  category\n",
      " 2   fnlwgt          32561 non-null  int32   \n",
      " 3   education       32561 non-null  category\n",
      " 4   education-num   32561 non-null  int16   \n",
      " 5   marital-status  32561 non-null  category\n",
      " 6   occupation      32561 non-null  category\n",
      " 7   relationship    32561 non-null  category\n",
      " 8   race            32561 non-null  category\n",
      " 9   sex             32561 non-null  category\n",
      " 10  capital-gain    32561 non-null  int32   \n",
      " 11  capital-loss    32561 non-null  int16   \n",
      " 12  hours-per-week  32561 non-null  int16   \n",
      " 13  native-country  32561 non-null  category\n",
      " 14  salary >50K     32561 non-null  bool    \n",
      "dtypes: bool(1), category(8), int16(4), int32(2)\n",
      "memory usage: 799.0 KB\n"
     ]
    }
   ],
   "source": [
    "data.info()"
   ]
  },
  {
   "cell_type": "markdown",
   "id": "ab5d7cb4",
   "metadata": {},
   "source": [
    "Отже, вдалося зменшити розмір датасету з `3.7Мб` до `0.8Мб`\n",
    "\n",
    "---\n",
    "\n",
    "Перевіремо значення категоріальних фіч і їх кількість"
   ]
  },
  {
   "cell_type": "code",
   "execution_count": 152,
   "id": "010d94df",
   "metadata": {},
   "outputs": [
    {
     "data": {
      "text/plain": [
       "Private             22696\n",
       "Self-emp-not-inc     2541\n",
       "Local-gov            2093\n",
       "?                    1836\n",
       "State-gov            1298\n",
       "Self-emp-inc         1116\n",
       "Federal-gov           960\n",
       "Without-pay            14\n",
       "Never-worked            7\n",
       "Name: workclass, dtype: int64"
      ]
     },
     "execution_count": 152,
     "metadata": {},
     "output_type": "execute_result"
    }
   ],
   "source": [
    "data['workclass'].value_counts(dropna=False)"
   ]
  },
  {
   "cell_type": "markdown",
   "id": "53ab5a04",
   "metadata": {},
   "source": [
    "**Як бачимо є 1836 невизначених(?) значень**"
   ]
  },
  {
   "cell_type": "code",
   "execution_count": 153,
   "id": "49d53f2a",
   "metadata": {},
   "outputs": [
    {
     "data": {
      "text/plain": [
       "HS-grad         10501\n",
       "Some-college     7291\n",
       "Bachelors        5355\n",
       "Masters          1723\n",
       "Assoc-voc        1382\n",
       "11th             1175\n",
       "Assoc-acdm       1067\n",
       "10th              933\n",
       "7th-8th           646\n",
       "Prof-school       576\n",
       "9th               514\n",
       "12th              433\n",
       "Doctorate         413\n",
       "5th-6th           333\n",
       "1st-4th           168\n",
       "Preschool          51\n",
       "Name: education, dtype: int64"
      ]
     },
     "execution_count": 153,
     "metadata": {},
     "output_type": "execute_result"
    }
   ],
   "source": [
    "data['education'].value_counts(dropna=False)"
   ]
  },
  {
   "cell_type": "code",
   "execution_count": 154,
   "id": "9a3bb76a",
   "metadata": {},
   "outputs": [
    {
     "data": {
      "text/plain": [
       "Married-civ-spouse       14976\n",
       "Never-married            10683\n",
       "Divorced                  4443\n",
       "Separated                 1025\n",
       "Widowed                    993\n",
       "Married-spouse-absent      418\n",
       "Married-AF-spouse           23\n",
       "Name: marital-status, dtype: int64"
      ]
     },
     "execution_count": 154,
     "metadata": {},
     "output_type": "execute_result"
    }
   ],
   "source": [
    "data['marital-status'].value_counts(dropna=False)"
   ]
  },
  {
   "cell_type": "code",
   "execution_count": 155,
   "id": "60e3c604",
   "metadata": {},
   "outputs": [
    {
     "data": {
      "text/plain": [
       "Prof-specialty       4140\n",
       "Craft-repair         4099\n",
       "Exec-managerial      4066\n",
       "Adm-clerical         3770\n",
       "Sales                3650\n",
       "Other-service        3295\n",
       "Machine-op-inspct    2002\n",
       "?                    1843\n",
       "Transport-moving     1597\n",
       "Handlers-cleaners    1370\n",
       "Farming-fishing       994\n",
       "Tech-support          928\n",
       "Protective-serv       649\n",
       "Priv-house-serv       149\n",
       "Armed-Forces            9\n",
       "Name: occupation, dtype: int64"
      ]
     },
     "execution_count": 155,
     "metadata": {},
     "output_type": "execute_result"
    }
   ],
   "source": [
    "data['occupation'].value_counts(dropna=False)"
   ]
  },
  {
   "cell_type": "markdown",
   "id": "2c904e54",
   "metadata": {},
   "source": [
    "**Тут теж є 1843 невизначених(?) значень**"
   ]
  },
  {
   "cell_type": "code",
   "execution_count": 156,
   "id": "88d1e812",
   "metadata": {},
   "outputs": [
    {
     "data": {
      "text/plain": [
       "Husband           13193\n",
       "Not-in-family      8305\n",
       "Own-child          5068\n",
       "Unmarried          3446\n",
       "Wife               1568\n",
       "Other-relative      981\n",
       "Name: relationship, dtype: int64"
      ]
     },
     "execution_count": 156,
     "metadata": {},
     "output_type": "execute_result"
    }
   ],
   "source": [
    "data['relationship'].value_counts(dropna=False)"
   ]
  },
  {
   "cell_type": "code",
   "execution_count": 157,
   "id": "ed029d3d",
   "metadata": {},
   "outputs": [
    {
     "data": {
      "text/plain": [
       "White                 27816\n",
       "Black                  3124\n",
       "Asian-Pac-Islander     1039\n",
       "Amer-Indian-Eskimo      311\n",
       "Other                   271\n",
       "Name: race, dtype: int64"
      ]
     },
     "execution_count": 157,
     "metadata": {},
     "output_type": "execute_result"
    }
   ],
   "source": [
    "data['race'].value_counts(dropna=False)"
   ]
  },
  {
   "cell_type": "code",
   "execution_count": 158,
   "id": "61912adb",
   "metadata": {},
   "outputs": [
    {
     "data": {
      "text/plain": [
       "United-States                 29170\n",
       "Mexico                          643\n",
       "?                               583\n",
       "Philippines                     198\n",
       "Germany                         137\n",
       "Canada                          121\n",
       "Puerto-Rico                     114\n",
       "El-Salvador                     106\n",
       "India                           100\n",
       "Cuba                             95\n",
       "England                          90\n",
       "Jamaica                          81\n",
       "South                            80\n",
       "China                            75\n",
       "Italy                            73\n",
       "Dominican-Republic               70\n",
       "Vietnam                          67\n",
       "Guatemala                        64\n",
       "Japan                            62\n",
       "Poland                           60\n",
       "Columbia                         59\n",
       "Taiwan                           51\n",
       "Haiti                            44\n",
       "Iran                             43\n",
       "Portugal                         37\n",
       "Nicaragua                        34\n",
       "Peru                             31\n",
       "Greece                           29\n",
       "France                           29\n",
       "Ecuador                          28\n",
       "Ireland                          24\n",
       "Hong                             20\n",
       "Cambodia                         19\n",
       "Trinadad&Tobago                  19\n",
       "Laos                             18\n",
       "Thailand                         18\n",
       "Yugoslavia                       16\n",
       "Outlying-US(Guam-USVI-etc)       14\n",
       "Hungary                          13\n",
       "Honduras                         13\n",
       "Scotland                         12\n",
       "Holand-Netherlands                1\n",
       "Name: native-country, dtype: int64"
      ]
     },
     "execution_count": 158,
     "metadata": {},
     "output_type": "execute_result"
    }
   ],
   "source": [
    "data['native-country'].value_counts(dropna=False)"
   ]
  },
  {
   "cell_type": "markdown",
   "id": "d7fd029f",
   "metadata": {},
   "source": [
    "**І тут 583 невизначених(?) значень**"
   ]
  },
  {
   "cell_type": "markdown",
   "id": "7966c898",
   "metadata": {},
   "source": [
    "Перевіремо в таблиці на рядки (`workclass`, `occupation`, `native-country`). Це просто одне пропущене значення в рядку, або весь рядок порожній"
   ]
  },
  {
   "cell_type": "code",
   "execution_count": 159,
   "id": "409af5c3",
   "metadata": {},
   "outputs": [
    {
     "data": {
      "text/plain": [
       "(27, 15)"
      ]
     },
     "execution_count": 159,
     "metadata": {},
     "output_type": "execute_result"
    }
   ],
   "source": [
    "miss_data = data[(data['workclass']=='?') & (data['occupation']=='?') & (data['native-country']=='?')]\n",
    "miss_data.shape"
   ]
  },
  {
   "cell_type": "markdown",
   "id": "c8599cc3",
   "metadata": {},
   "source": [
    "Є невелика кількість рядків, у яких пропущено всі три значення. Однак більшість розкидані по інших рядках. Під час подальшого аналізу потрібно бути уважним під час вибору досліджуваних фічей, і фільтрувати їх перед аналізом."
   ]
  },
  {
   "cell_type": "markdown",
   "id": "7acfe107",
   "metadata": {},
   "source": [
    "---\n",
    "\n",
    "#### 3. Скільки чоловіків і жінок (ознака sex) представлено в цьому наборі даних?\n",
    "[завдання](#0)\n",
    "<a name=\"3\"/>"
   ]
  },
  {
   "cell_type": "code",
   "execution_count": 160,
   "id": "954a27df",
   "metadata": {},
   "outputs": [
    {
     "name": "stdout",
     "output_type": "stream",
     "text": [
      "Чоловіків: 21790\n",
      "Жінок: 10771\n"
     ]
    }
   ],
   "source": [
    "sex_age = data['sex'].value_counts(dropna=True)\n",
    "print(f'''Чоловіків: {sex_age[0]}\n",
    "Жінок: {sex_age[1]}''')"
   ]
  },
  {
   "cell_type": "markdown",
   "id": "3dc9d732",
   "metadata": {},
   "source": [
    "---\n",
    "\n",
    "#### 4. Який середній вік (ознака age) жінок??\n",
    "[завдання](#0)\n",
    "<a name=\"4\"/>"
   ]
  },
  {
   "cell_type": "code",
   "execution_count": 161,
   "id": "ad13d5a2",
   "metadata": {},
   "outputs": [
    {
     "name": "stdout",
     "output_type": "stream",
     "text": [
      "Середній вік жінок: 36.85823043357163 роки\n"
     ]
    }
   ],
   "source": [
    "print(f'''Середній вік жінок: {data[data['sex']=='Female']['age'].mean()} роки''')\n"
   ]
  },
  {
   "cell_type": "markdown",
   "id": "c14fb386",
   "metadata": {},
   "source": [
    "---\n",
    "\n",
    "#### 5. Яка частка громадян Німеччини (ознака native-country)?\n",
    "[завдання](#0)\n",
    "<a name=\"5\"/>"
   ]
  },
  {
   "cell_type": "code",
   "execution_count": 162,
   "id": "00c5e0ae",
   "metadata": {},
   "outputs": [
    {
     "name": "stdout",
     "output_type": "stream",
     "text": [
      "Частка громадян Німеччини\n",
      "0.42841953843267244%\n"
     ]
    }
   ],
   "source": [
    "print(f'''Частка громадян Німеччини\n",
    "{data[data['native-country']=='Germany']['native-country'].count() / data[data['native-country'] != '?']['native-country'].count() * 100}%''')"
   ]
  },
  {
   "cell_type": "markdown",
   "id": "d2604c1d",
   "metadata": {},
   "source": [
    "---\n",
    "\n",
    "#### 6. Які середні значення і середньоквадратичні відхилення віку тих, хто отримує понад 50K на рік (ознака salary), і тих, хто отримує менш як 50K на рік??\n",
    "[завдання](#0)\n",
    "<a name=\"6\"/>"
   ]
  },
  {
   "cell_type": "code",
   "execution_count": 163,
   "id": "b751e852",
   "metadata": {},
   "outputs": [
    {
     "name": "stdout",
     "output_type": "stream",
     "text": [
      "Для тих хто отримує: >50K\n",
      "Середнє значення віку: 44.24984058155847\n",
      "Середньоквадратичне відхилення віку: 10.519027719851826\n"
     ]
    }
   ],
   "source": [
    "salary_age = data[data['salary >50K']==True]['age']\n",
    "print(f'''Для тих хто отримує: >50K\n",
    "Середнє значення віку: {salary_age.mean()}\n",
    "Середньоквадратичне відхилення віку: {salary_age.std()}''')"
   ]
  },
  {
   "cell_type": "markdown",
   "id": "0b353d32",
   "metadata": {},
   "source": [
    "---\n",
    "\n",
    "#### 7. Чи правда, що люди, які отримують понад 50k, мають щонайменше вищу освіту? (ознака education - Bachelors, Prof-school, Assoc-acdm, Assoc-voc, Masters або Doctorate)\n",
    "[завдання](#0)\n",
    "<a name=\"7\"/>"
   ]
  },
  {
   "cell_type": "code",
   "execution_count": 164,
   "id": "5fadad3a",
   "metadata": {},
   "outputs": [
    {
     "data": {
      "text/plain": [
       "True     4535\n",
       "False    3306\n",
       "Name: education, dtype: int64"
      ]
     },
     "execution_count": 164,
     "metadata": {},
     "output_type": "execute_result"
    }
   ],
   "source": [
    "higher_education = ['Bachelors', 'Prof-school', 'Assoc-acdm', 'Assoc-voc', 'Masters', 'Doctorate']\n",
    "data[data['salary >50K']==True]['education'].map(lambda education: education in higher_education).value_counts(dropna=False)"
   ]
  },
  {
   "cell_type": "markdown",
   "id": "ed0edabd",
   "metadata": {},
   "source": [
    "Не правда. як бачимо близько 40% людей, що отримують >50K не мають вищу освіту "
   ]
  },
  {
   "cell_type": "markdown",
   "id": "4d89a002",
   "metadata": {},
   "source": [
    "---\n",
    "\n",
    "#### 8. Виведіть статистику віку для кожної раси (ознака race) і кожної статі. Використовуйте groupby та describe. Знайдіть таким чином максимальний вік чоловіків раси Amer-Indian-Eskimo.\n",
    "[завдання](#0)\n",
    "<a name=\"8\"/>"
   ]
  },
  {
   "cell_type": "code",
   "execution_count": 165,
   "id": "c0292302",
   "metadata": {},
   "outputs": [
    {
     "data": {
      "text/html": [
       "<div>\n",
       "<style scoped>\n",
       "    .dataframe tbody tr th:only-of-type {\n",
       "        vertical-align: middle;\n",
       "    }\n",
       "\n",
       "    .dataframe tbody tr th {\n",
       "        vertical-align: top;\n",
       "    }\n",
       "\n",
       "    .dataframe thead th {\n",
       "        text-align: right;\n",
       "    }\n",
       "</style>\n",
       "<table border=\"1\" class=\"dataframe\">\n",
       "  <thead>\n",
       "    <tr style=\"text-align: right;\">\n",
       "      <th></th>\n",
       "      <th></th>\n",
       "      <th>count</th>\n",
       "      <th>mean</th>\n",
       "      <th>std</th>\n",
       "      <th>min</th>\n",
       "      <th>25%</th>\n",
       "      <th>50%</th>\n",
       "      <th>75%</th>\n",
       "      <th>max</th>\n",
       "    </tr>\n",
       "    <tr>\n",
       "      <th>race</th>\n",
       "      <th>sex</th>\n",
       "      <th></th>\n",
       "      <th></th>\n",
       "      <th></th>\n",
       "      <th></th>\n",
       "      <th></th>\n",
       "      <th></th>\n",
       "      <th></th>\n",
       "      <th></th>\n",
       "    </tr>\n",
       "  </thead>\n",
       "  <tbody>\n",
       "    <tr>\n",
       "      <th rowspan=\"2\" valign=\"top\">Amer-Indian-Eskimo</th>\n",
       "      <th>Female</th>\n",
       "      <td>119.0</td>\n",
       "      <td>37.117647</td>\n",
       "      <td>13.114991</td>\n",
       "      <td>17.0</td>\n",
       "      <td>27.0</td>\n",
       "      <td>36.0</td>\n",
       "      <td>46.00</td>\n",
       "      <td>80.0</td>\n",
       "    </tr>\n",
       "    <tr>\n",
       "      <th>Male</th>\n",
       "      <td>192.0</td>\n",
       "      <td>37.208333</td>\n",
       "      <td>12.049563</td>\n",
       "      <td>17.0</td>\n",
       "      <td>28.0</td>\n",
       "      <td>35.0</td>\n",
       "      <td>45.00</td>\n",
       "      <td>82.0</td>\n",
       "    </tr>\n",
       "    <tr>\n",
       "      <th rowspan=\"2\" valign=\"top\">Asian-Pac-Islander</th>\n",
       "      <th>Female</th>\n",
       "      <td>346.0</td>\n",
       "      <td>35.089595</td>\n",
       "      <td>12.300845</td>\n",
       "      <td>17.0</td>\n",
       "      <td>25.0</td>\n",
       "      <td>33.0</td>\n",
       "      <td>43.75</td>\n",
       "      <td>75.0</td>\n",
       "    </tr>\n",
       "    <tr>\n",
       "      <th>Male</th>\n",
       "      <td>693.0</td>\n",
       "      <td>39.073593</td>\n",
       "      <td>12.883944</td>\n",
       "      <td>18.0</td>\n",
       "      <td>29.0</td>\n",
       "      <td>37.0</td>\n",
       "      <td>46.00</td>\n",
       "      <td>90.0</td>\n",
       "    </tr>\n",
       "    <tr>\n",
       "      <th rowspan=\"2\" valign=\"top\">Black</th>\n",
       "      <th>Female</th>\n",
       "      <td>1555.0</td>\n",
       "      <td>37.854019</td>\n",
       "      <td>12.637197</td>\n",
       "      <td>17.0</td>\n",
       "      <td>28.0</td>\n",
       "      <td>37.0</td>\n",
       "      <td>46.00</td>\n",
       "      <td>90.0</td>\n",
       "    </tr>\n",
       "    <tr>\n",
       "      <th>Male</th>\n",
       "      <td>1569.0</td>\n",
       "      <td>37.682600</td>\n",
       "      <td>12.882612</td>\n",
       "      <td>17.0</td>\n",
       "      <td>27.0</td>\n",
       "      <td>36.0</td>\n",
       "      <td>46.00</td>\n",
       "      <td>90.0</td>\n",
       "    </tr>\n",
       "    <tr>\n",
       "      <th rowspan=\"2\" valign=\"top\">Other</th>\n",
       "      <th>Female</th>\n",
       "      <td>109.0</td>\n",
       "      <td>31.678899</td>\n",
       "      <td>11.631599</td>\n",
       "      <td>17.0</td>\n",
       "      <td>23.0</td>\n",
       "      <td>29.0</td>\n",
       "      <td>39.00</td>\n",
       "      <td>74.0</td>\n",
       "    </tr>\n",
       "    <tr>\n",
       "      <th>Male</th>\n",
       "      <td>162.0</td>\n",
       "      <td>34.654321</td>\n",
       "      <td>11.355531</td>\n",
       "      <td>17.0</td>\n",
       "      <td>26.0</td>\n",
       "      <td>32.0</td>\n",
       "      <td>42.00</td>\n",
       "      <td>77.0</td>\n",
       "    </tr>\n",
       "    <tr>\n",
       "      <th rowspan=\"2\" valign=\"top\">White</th>\n",
       "      <th>Female</th>\n",
       "      <td>8642.0</td>\n",
       "      <td>36.811618</td>\n",
       "      <td>14.329093</td>\n",
       "      <td>17.0</td>\n",
       "      <td>25.0</td>\n",
       "      <td>35.0</td>\n",
       "      <td>46.00</td>\n",
       "      <td>90.0</td>\n",
       "    </tr>\n",
       "    <tr>\n",
       "      <th>Male</th>\n",
       "      <td>19174.0</td>\n",
       "      <td>39.652498</td>\n",
       "      <td>13.436029</td>\n",
       "      <td>17.0</td>\n",
       "      <td>29.0</td>\n",
       "      <td>38.0</td>\n",
       "      <td>49.00</td>\n",
       "      <td>90.0</td>\n",
       "    </tr>\n",
       "  </tbody>\n",
       "</table>\n",
       "</div>"
      ],
      "text/plain": [
       "                             count       mean        std   min   25%   50%  \\\n",
       "race               sex                                                       \n",
       "Amer-Indian-Eskimo Female    119.0  37.117647  13.114991  17.0  27.0  36.0   \n",
       "                   Male      192.0  37.208333  12.049563  17.0  28.0  35.0   \n",
       "Asian-Pac-Islander Female    346.0  35.089595  12.300845  17.0  25.0  33.0   \n",
       "                   Male      693.0  39.073593  12.883944  18.0  29.0  37.0   \n",
       "Black              Female   1555.0  37.854019  12.637197  17.0  28.0  37.0   \n",
       "                   Male     1569.0  37.682600  12.882612  17.0  27.0  36.0   \n",
       "Other              Female    109.0  31.678899  11.631599  17.0  23.0  29.0   \n",
       "                   Male      162.0  34.654321  11.355531  17.0  26.0  32.0   \n",
       "White              Female   8642.0  36.811618  14.329093  17.0  25.0  35.0   \n",
       "                   Male    19174.0  39.652498  13.436029  17.0  29.0  38.0   \n",
       "\n",
       "                             75%   max  \n",
       "race               sex                  \n",
       "Amer-Indian-Eskimo Female  46.00  80.0  \n",
       "                   Male    45.00  82.0  \n",
       "Asian-Pac-Islander Female  43.75  75.0  \n",
       "                   Male    46.00  90.0  \n",
       "Black              Female  46.00  90.0  \n",
       "                   Male    46.00  90.0  \n",
       "Other              Female  39.00  74.0  \n",
       "                   Male    42.00  77.0  \n",
       "White              Female  46.00  90.0  \n",
       "                   Male    49.00  90.0  "
      ]
     },
     "execution_count": 165,
     "metadata": {},
     "output_type": "execute_result"
    }
   ],
   "source": [
    "data.groupby(['race', 'sex'])['age'].describe()"
   ]
  },
  {
   "cell_type": "code",
   "execution_count": 166,
   "id": "98f83dd8",
   "metadata": {},
   "outputs": [
    {
     "name": "stdout",
     "output_type": "stream",
     "text": [
      "Cередній вік: чоловіка\n",
      "Раси: Amer-Indian-Eskimo\n",
      "82 роки\n"
     ]
    }
   ],
   "source": [
    "print(f'''Cередній вік: чоловіка\n",
    "Раси: Amer-Indian-Eskimo\n",
    "{data[(data['race']=='Amer-Indian-Eskimo') & (data['sex']=='Male')]['age'].max()} роки''')"
   ]
  },
  {
   "cell_type": "markdown",
   "id": "e22afc72",
   "metadata": {},
   "source": [
    "---\n",
    "\n",
    "#### 9. Серед кого більша частка тих, хто заробляє багато (>50K): серед одружених чи неодружених чоловіків (ознака marital-status)? Одруженими вважаємо тих, у кого marital-status починається з Married (Married-civ-spouse, Married-spouse-absent або Married-AF-spouse), решту вважаємо неодруженими.\n",
    "[завдання](#0)\n",
    "<a name=\"9\"/>"
   ]
  },
  {
   "cell_type": "code",
   "execution_count": 167,
   "id": "f4d40dad",
   "metadata": {},
   "outputs": [
    {
     "name": "stdout",
     "output_type": "stream",
     "text": [
      "\n",
      "Для:                Чоловіків\n",
      "Із заробітком:      >50K\n",
      "Частка одружених:   0.8953767637346143\n",
      "Частка неодружених: 0.10462323626538576\n"
     ]
    }
   ],
   "source": [
    "marital_statueses = ['Married-civ-spouse', 'Married-spouse-absent', 'Married-AF-spouse']\n",
    "a, b = data[(data['salary >50K'] == True) & (data['sex'] == 'Male')]['marital-status'].map(lambda ms: ms in marital_statueses).value_counts(dropna=True)\n",
    "print(f'''\n",
    "Для:                Чоловіків\n",
    "Із заробітком:      >50K\n",
    "Частка одружених:   {a/(a+b)}\n",
    "Частка неодружених: {b/(a+b)}''')"
   ]
  },
  {
   "cell_type": "markdown",
   "id": "f17dd722",
   "metadata": {},
   "source": [
    "---\n",
    "\n",
    "#### 10. Яке максимальне число годин людина працює на тиждень (ознака hours-per-week)? Скільки людей працюють таку кількість годин і який серед них відсоток тих, хто заробляє багато?\n",
    "[завдання](#0)\n",
    "<a name=\"10\"/>"
   ]
  },
  {
   "cell_type": "code",
   "execution_count": 168,
   "id": "f7144339",
   "metadata": {},
   "outputs": [
    {
     "name": "stdout",
     "output_type": "stream",
     "text": [
      "\n",
      "Max число годин на тиждень:       99\n",
      "Людей, які працюють max годин:    85\n",
      "Відсоток людей що отримують >50K: 29.411764705882355 %\n"
     ]
    }
   ],
   "source": [
    "max_work = data['hours-per-week'].max()\n",
    "max_work_count = data[(data['hours-per-week'] == max_work)]['hours-per-week'].count()\n",
    "max_work_max_salary = data[(data['hours-per-week'] == max_work) & (data['salary >50K'] == True)]['salary >50K'].count()\n",
    "\n",
    "print(f'''\n",
    "Max число годин на тиждень:       {max_work}\n",
    "Людей, які працюють max годин:    {max_work_count}\n",
    "Відсоток людей що отримують >50K: {max_work_max_salary/max_work_count*100} %''')"
   ]
  },
  {
   "cell_type": "markdown",
   "id": "5dc55cae",
   "metadata": {},
   "source": [
    "---\n",
    "\n",
    "#### 11. Порахуйте середній час роботи (hours-per-week) тих, хто заробляє мало і багато (salary) для кожної країни (native-country).\n",
    "[завдання](#0)\n",
    "<a name=\"11\"/>"
   ]
  },
  {
   "cell_type": "code",
   "execution_count": 169,
   "id": "1a76b814",
   "metadata": {},
   "outputs": [
    {
     "data": {
      "text/plain": [
       "salary >50K  native-country \n",
       "False        ?                  40.164760\n",
       "             Cambodia           41.416667\n",
       "             Canada             37.914634\n",
       "             China              37.381818\n",
       "             Columbia           38.684211\n",
       "                                  ...    \n",
       "True         Thailand           58.333333\n",
       "             Trinadad&Tobago    40.000000\n",
       "             United-States      45.505369\n",
       "             Vietnam            39.200000\n",
       "             Yugoslavia         49.500000\n",
       "Name: hours-per-week, Length: 84, dtype: float64"
      ]
     },
     "execution_count": 169,
     "metadata": {},
     "output_type": "execute_result"
    }
   ],
   "source": [
    "data.groupby(['salary >50K', 'native-country'])['hours-per-week'].mean()"
   ]
  },
  {
   "cell_type": "markdown",
   "id": "61f95a95",
   "metadata": {},
   "source": [
    "### Дякую за увагу!)"
   ]
  }
 ],
 "metadata": {
  "kernelspec": {
   "display_name": "Python 3 (ipykernel)",
   "language": "python",
   "name": "python3"
  },
  "language_info": {
   "codemirror_mode": {
    "name": "ipython",
    "version": 3
   },
   "file_extension": ".py",
   "mimetype": "text/x-python",
   "name": "python",
   "nbconvert_exporter": "python",
   "pygments_lexer": "ipython3",
   "version": "3.11.4"
  }
 },
 "nbformat": 4,
 "nbformat_minor": 5
}
